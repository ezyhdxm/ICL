{
 "cells": [
  {
   "cell_type": "markdown",
   "id": "51ece98b-8697-4379-b4ea-141d79b75eb4",
   "metadata": {},
   "source": [
    "By vectorization, our implemetation of the [bigram data model](https://arxiv.org/pdf/2306.00802) is much faster compared to the original implementation."
   ]
  },
  {
   "cell_type": "code",
   "execution_count": 1,
   "id": "9b93487c-316d-4694-9b63-a1017ab05f7d",
   "metadata": {},
   "outputs": [],
   "source": [
    "from dataclasses import dataclass\n",
    "import itertools\n",
    "import logging\n",
    "import random\n",
    "import math\n",
    "import numpy as np\n",
    "import pickle\n",
    "import time\n",
    "import sys\n",
    "\n",
    "from collections import namedtuple\n",
    "from functools import partial\n",
    "\n",
    "import jax\n",
    "from jax import jit, lax\n",
    "from jax import numpy as jnp\n",
    "from jax import random as jr\n",
    "from jax import vmap\n",
    "from jax.numpy import linalg as jla\n",
    "\n",
    "from typing import List, Optional, Tuple, Sequence\n",
    "\n",
    "from markov import *\n",
    "from config import *\n",
    "from causal_graph import *\n",
    "from old_sampler import *\n",
    "import torch\n",
    "\n",
    "logging.getLogger().setLevel(logging.INFO)"
   ]
  },
  {
   "cell_type": "code",
   "execution_count": 2,
   "id": "02b00e64-febc-42bc-be3c-bd1c311dab7a",
   "metadata": {},
   "outputs": [
    {
     "name": "stdout",
     "output_type": "stream",
     "text": [
      "1.84 ms ± 10.6 μs per loop (mean ± std. dev. of 7 runs, 1,000 loops each)\n"
     ]
    }
   ],
   "source": [
    "args = DataArgs(k=2, seq_length=16, show_latents=False)\n",
    "ds = Dataset(args)\n",
    "rng = np.random.default_rng(42)\n",
    "%timeit ds.gen_batch(rng, 16)"
   ]
  },
  {
   "cell_type": "code",
   "execution_count": 3,
   "id": "658175a6-40e4-48a6-94f8-33a35b8f1637",
   "metadata": {},
   "outputs": [
    {
     "name": "stdout",
     "output_type": "stream",
     "text": [
      "683 μs ± 9.11 μs per loop (mean ± std. dev. of 7 runs, 1,000 loops each)\n"
     ]
    }
   ],
   "source": [
    "torch_args = BiettiSamplerConfig(batch_size=16, seq_len=16, show_latents=True, seed=42)\n",
    "torch_ds = BiettiTask(torch_args)\n",
    "%timeit torch_ds.generate()"
   ]
  },
  {
   "cell_type": "code",
   "execution_count": 4,
   "id": "a31b1af3-a770-4dc5-88ba-2fa2a9e7ebe4",
   "metadata": {},
   "outputs": [
    {
     "name": "stdout",
     "output_type": "stream",
     "text": [
      "428 μs ± 1.16 μs per loop (mean ± std. dev. of 7 runs, 1,000 loops each)\n"
     ]
    }
   ],
   "source": [
    "torch_args = BiettiSamplerConfig(batch_size=16, seq_len=16, show_mask=True)\n",
    "torch_ds = BBTask(torch_args)\n",
    "%timeit torch_ds.generate()"
   ]
  },
  {
   "cell_type": "markdown",
   "id": "50e9d36b-267f-4cfc-8e36-baeb9d5357cb",
   "metadata": {},
   "source": [
    "### Compared with JAX"
   ]
  },
  {
   "cell_type": "code",
   "execution_count": 5,
   "id": "e6151891-6c04-4348-b738-48985138b589",
   "metadata": {},
   "outputs": [],
   "source": [
    "def get_stationary(pi):\n",
    "    mu = jla.svd(pi.T - jnp.eye(pi.shape[0]))[-1][-1]\n",
    "    return mu / mu.sum()\n",
    "\n",
    "\n",
    "class InContextTree:\n",
    "    def __init__(self, vocab_size, dag, alpha=1):\n",
    "        assert jnp.all(dag < jnp.arange(len(dag)))\n",
    "        self.vocab_size = vocab_size\n",
    "        self.dag = dag\n",
    "        self.alpha = alpha\n",
    "\n",
    "    def sample(self, key):\n",
    "        pi_key, seq_key, test_key = jr.split(key, 3)\n",
    "        prior = self.alpha * jnp.ones(self.vocab_size)\n",
    "        pi = jr.dirichlet(pi_key, prior, [self.vocab_size])\n",
    "        mu = get_stationary(pi)\n",
    "        x = jnp.zeros((len(self.dag) + 1,), dtype=int)\n",
    "\n",
    "        def step(i, carry):\n",
    "            x, k = carry\n",
    "            k, subkey = jr.split(k)\n",
    "            p = jnp.where(self.dag[i] == -1, mu, pi[x[self.dag[i]]])\n",
    "            x = x.at[i].set(jr.choice(subkey, pi.shape[0], p=p))\n",
    "            return x, k\n",
    "\n",
    "        x, _ = lax.fori_loop(0, len(self.dag), step, (x, seq_key))\n",
    "        test_token = jr.choice(test_key, self.vocab_size)\n",
    "        x = x.at[-1].set(test_token)\n",
    "        y = pi[test_token]\n",
    "        return x, y\n",
    "\n",
    "    def bayes(self, seq):\n",
    "        s, seq = seq[-1], seq[:-1]\n",
    "        counts = jnp.zeros(self.vocab_size)\n",
    "        counts = counts.at[seq].add(seq[self.dag] == s)\n",
    "        counts += self.alpha\n",
    "        return counts / counts.sum()\n",
    "\n",
    "\n",
    "class InContextDAG:\n",
    "    def __init__(self, vocab_size, dag, alpha):\n",
    "        for i, p in enumerate(dag):\n",
    "            # print(i, p)\n",
    "            assert max(p, default=-1) < i\n",
    "        dag = [jnp.array(p, dtype=int) for p in dag]\n",
    "        self.vocab_size = vocab_size\n",
    "        self.dag = dag\n",
    "        self.alpha = alpha\n",
    "\n",
    "    def sample(self, key):\n",
    "        pi_key, seq_key = jr.split(key)\n",
    "        ks = set(len(p) for p in self.dag)\n",
    "        pi_keys = jr.split(pi_key, len(ks))\n",
    "        pi = dict()\n",
    "        pi[0] = jnp.ones(self.vocab_size) / self.vocab_size\n",
    "        prior = self.alpha * jnp.ones(self.vocab_size)\n",
    "        for k, subkey in zip(ks, pi_keys):\n",
    "            pi[k] = jr.dirichlet(subkey, prior, [self.vocab_size] * k)\n",
    "\n",
    "        x = jnp.zeros((len(self.dag) - 1,), dtype=int)\n",
    "        for i in range(len(self.dag)):\n",
    "            k = len(self.dag[i])\n",
    "            if k == 0:\n",
    "                p = pi[0]\n",
    "            else:\n",
    "                p = pi[k][tuple(x[self.dag[i]])]\n",
    "\n",
    "            if i != len(self.dag) - 1:\n",
    "                seq_key, subkey = jr.split(seq_key)\n",
    "                new_token = jr.choice(subkey, self.vocab_size, p=p)\n",
    "                x = x.at[i].set(new_token)\n",
    "        return x, p\n",
    "\n",
    "    def bayes(self, seq):\n",
    "        counts = jnp.zeros(self.vocab_size)\n",
    "        s = seq[self.dag[-1]]\n",
    "        for i in range(len(self.dag) - 1):\n",
    "            if len(self.dag[i]) == len(s):\n",
    "                counts = counts.at[seq[i]].add(jnp.all(seq[self.dag[i]] == s))\n",
    "        counts += self.alpha\n",
    "        return counts / counts.sum()\n",
    "\n",
    "class RNG:\n",
    "    def __init__(self, seed=None, key=None):\n",
    "        if seed is not None:\n",
    "            self.key = jax.random.PRNGKey(seed)\n",
    "        elif key is not None:\n",
    "            self.key = key\n",
    "        else:\n",
    "            raise Exception(\"RNG expects either a seed or random key.\")\n",
    "\n",
    "    def next(self, n_keys=1):\n",
    "        if n_keys > 1:\n",
    "            return jax.random.split(self.next(), n_keys)\n",
    "        else:\n",
    "            self.key, key = jax.random.split(self.key)\n",
    "            return key\n",
    "\n",
    "    def __getattr__(self, name):\n",
    "        return partial(getattr(jax.random, name), self.next())"
   ]
  },
  {
   "cell_type": "markdown",
   "id": "264a8c58-f3cf-4380-bcd6-16a75a42b67d",
   "metadata": {},
   "source": [
    "JAX is slightly faster than the vectorized PyTorch."
   ]
  },
  {
   "cell_type": "code",
   "execution_count": 3,
   "id": "5b632dbb-da1e-41bd-86b9-f7fe12cb9c1d",
   "metadata": {},
   "outputs": [
    {
     "name": "stderr",
     "output_type": "stream",
     "text": [
      "INFO:2025-01-28 15:03:01,126:jax._src.xla_bridge:927: Unable to initialize backend 'rocm': module 'jaxlib.xla_extension' has no attribute 'GpuAllocatorConfig'\n",
      "INFO:2025-01-28 15:03:01,128:jax._src.xla_bridge:927: Unable to initialize backend 'tpu': INTERNAL: Failed to open libtpu.so: dlopen(libtpu.so, 0x0001): tried: 'libtpu.so' (no such file), '/System/Volumes/Preboot/Cryptexes/OSlibtpu.so' (no such file), '/Users/hyan/anaconda3/envs/ICL/bin/../lib/libtpu.so' (no such file), '/usr/lib/libtpu.so' (no such file, not in dyld cache), 'libtpu.so' (no such file), '/usr/local/lib/libtpu.so' (no such file), '/usr/lib/libtpu.so' (no such file, not in dyld cache)\n"
     ]
    }
   ],
   "source": [
    "vocab_size = 10\n",
    "seq_len = 256\n",
    "batch_size = 64\n",
    "rng = RNG(0)\n",
    "dag = jnp.arange(seq_len)-1\n",
    "BigramJax = InContextTree(vocab_size, dag)\n",
    "sample_fn = jit(lambda k: vmap(BigramJax.sample)(jr.split(k, batch_size)))\n",
    "key, subkey = jr.split(rng.next())\n",
    "batches = sample_fn(subkey)"
   ]
  },
  {
   "cell_type": "code",
   "execution_count": 4,
   "id": "dd56dbf8-5c82-4869-94d5-d1e636cdbbe4",
   "metadata": {},
   "outputs": [
    {
     "name": "stdout",
     "output_type": "stream",
     "text": [
      "6.18 ms ± 43.3 μs per loop (mean ± std. dev. of 7 runs, 100 loops each)\n"
     ]
    }
   ],
   "source": [
    "key, subkey = jr.split(rng.next())\n",
    "%timeit sample_fn(subkey)"
   ]
  },
  {
   "cell_type": "code",
   "execution_count": 5,
   "id": "d3d6625f-2418-4980-8bb5-e4d3f5316567",
   "metadata": {},
   "outputs": [
    {
     "name": "stdout",
     "output_type": "stream",
     "text": [
      "7.43 ms ± 147 μs per loop (mean ± std. dev. of 7 runs, 100 loops each)\n"
     ]
    }
   ],
   "source": [
    "torch_args = MarkovSamplerConfig(vocab_size=vocab_size, batch_size=batch_size, seq_len=seq_len, order=1)\n",
    "torch_ds = MarkovSampler(torch_args)\n",
    "%timeit torch_ds.generate()"
   ]
  },
  {
   "cell_type": "code",
   "execution_count": 6,
   "id": "abf078d2-0033-4983-a136-5a6ca56e77e1",
   "metadata": {},
   "outputs": [
    {
     "name": "stdout",
     "output_type": "stream",
     "text": [
      "7.71 ms ± 266 μs per loop (mean ± std. dev. of 7 runs, 100 loops each)\n"
     ]
    }
   ],
   "source": [
    "dag = torch.arange(seq_len)-1\n",
    "BigramTorch = InContextTreeTorch(vocab_size, dag)\n",
    "%timeit BigramTorch.sample_batch(batch_size)"
   ]
  },
  {
   "cell_type": "markdown",
   "id": "d2021aca-eaec-45ca-99e9-47a228a2bef3",
   "metadata": {},
   "source": [
    "### Torch with jit"
   ]
  },
  {
   "cell_type": "markdown",
   "id": "04bb9291-9277-4f38-9cf3-a96b780e9179",
   "metadata": {},
   "source": [
    "We can also use torch.jit to optimize the torch implementation."
   ]
  },
  {
   "cell_type": "code",
   "execution_count": 7,
   "id": "7d7a8e14-b92e-4277-8c3d-4a313fc84ed2",
   "metadata": {},
   "outputs": [],
   "source": [
    "from typing import List\n",
    "import torch\n",
    "\n",
    "def get_stationary(pi: torch.Tensor) -> torch.Tensor:\n",
    "    \"\"\"\n",
    "    Cannot be jitted due to dynamic tensor shape\n",
    "    \"\"\"\n",
    "    batch_size, vocab_size, _ = pi.shape\n",
    "    pi_t = pi.transpose(1, 2)  # Transpose each matrix\n",
    "    svd_input = pi_t - torch.eye(vocab_size, device=pi.device).unsqueeze(0).expand(batch_size, -1, -1)\n",
    "    _, _, v = torch.linalg.svd(svd_input)\n",
    "    mu = torch.abs(v[:, -1, :])  # Last singular vector for each matrix, make sure that mu is positive to eliminate numerical issues\n",
    "    return mu / mu.sum(dim=1, keepdim=True)\n",
    "\n",
    "\n",
    "@torch.jit.script\n",
    "def sample_dirichlet(alpha: torch.Tensor, size: List[int]) -> torch.Tensor:\n",
    "    \"\"\"\n",
    "    Manually sample from a Dirichlet distribution using Gamma sampling due to incompatibility\n",
    "    between torch.jit and torch.distributions.Dirichlet. \n",
    "\n",
    "    Args:\n",
    "        alpha (torch.Tensor): Concentration parameters of shape (num_states,).\n",
    "        size (List[int]): Output size, e.g., [batch_size, num_states, num_states].\n",
    "\n",
    "    Returns:\n",
    "        torch.Tensor: Samples from the Dirichlet distribution of shape `size`.\n",
    "    \"\"\"\n",
    "    gamma_samples = torch._standard_gamma(alpha.expand(size))\n",
    "    return gamma_samples / gamma_samples.sum(dim=-1, keepdim=True)\n",
    "\n",
    "\n",
    "\n",
    "@torch.jit.script\n",
    "def markov_chain_sample_batch(num_states: int, batch_size: int, dag: torch.Tensor,\n",
    "                              device: str, alpha: float = 0.1) -> Tuple[torch.Tensor, torch.Tensor]:\n",
    "    \"\"\"\n",
    "    Sample a batch of sequences from a Markov chain.\n",
    "\n",
    "    Args:\n",
    "        alpha (float): Dirichlet prior concentration parameter.\n",
    "        num_states (int): Number of states in the Markov chain.\n",
    "        device (str): Device to perform computations on ('cpu' or 'cuda').\n",
    "        seq_len (int): Length of the sequence to sample.\n",
    "        batch_size (int): Number of sequences to sample.\n",
    "\n",
    "    Returns:\n",
    "        torch.Tensor: Batch of sampled sequences of shape (batch_size, seq_len).\n",
    "    \"\"\"\n",
    "    # Sample transition matrices from a Dirichlet distribution\n",
    "    prior = alpha * torch.ones(num_states, device=device)\n",
    "    pi = sample_dirichlet(prior, size=(batch_size, num_states, num_states))  # Shape: (batch_size, num_states, num_states)\n",
    "    \n",
    "    # Compute stationary distribution\n",
    "    mu = get_stationary(pi)\n",
    "    \n",
    "    seq_len = len(dag) + 1\n",
    "\n",
    "    # Initialize sequences\n",
    "    samples = torch.zeros((batch_size, seq_len), dtype=torch.long, device=device)\n",
    "\n",
    "    for t in range(seq_len-1):\n",
    "        if dag[t] == -1:  # Root node\n",
    "            p = mu  # Use stationary distribution\n",
    "        else:  # Child node\n",
    "            parent_tokens = samples[:, dag[t]]  # Shape: (batch_size,)\n",
    "            p = pi[torch.arange(batch_size), parent_tokens]  # Transition probabilities for parent tokens\n",
    "\n",
    "        # Sample tokens for all sequences in the batch\n",
    "        samples[:, t] = torch.multinomial(p, num_samples=1).squeeze()\n",
    "    \n",
    "    # Sample test tokens for the last position\n",
    "    test_tokens = torch.randint(num_states, (batch_size,), device=device)\n",
    "    samples[:, -1] = test_tokens\n",
    "    target_probs = pi[torch.arange(batch_size), test_tokens]  # Probabilities of test tokens\n",
    "    return samples, target_probs"
   ]
  },
  {
   "cell_type": "code",
   "execution_count": 8,
   "id": "5f6ebe6d-41d7-4f71-b2af-b50303bbe890",
   "metadata": {},
   "outputs": [],
   "source": [
    "# Sample a batch of sequences\n",
    "samples_batch = markov_chain_sample_batch(vocab_size, seq_len, dag, \"cpu\")"
   ]
  },
  {
   "cell_type": "code",
   "execution_count": 9,
   "id": "5269383e-47e2-4366-afd9-b008ce106824",
   "metadata": {},
   "outputs": [
    {
     "name": "stdout",
     "output_type": "stream",
     "text": [
      "16.7 ms ± 41.5 μs per loop (mean ± std. dev. of 7 runs, 100 loops each)\n"
     ]
    }
   ],
   "source": [
    "%timeit markov_chain_sample_batch(vocab_size, seq_len, dag, \"cpu\")"
   ]
  },
  {
   "cell_type": "markdown",
   "id": "bb8372dd-7387-4162-90f2-2e5f00066ae8",
   "metadata": {},
   "source": [
    "It is even slower, so we do not bother..."
   ]
  },
  {
   "cell_type": "markdown",
   "id": "8c6e223e-254c-44aa-8368-2f786d1d3e4f",
   "metadata": {},
   "source": [
    "### Test Multiple Parents Implementation"
   ]
  },
  {
   "cell_type": "code",
   "execution_count": 7,
   "id": "46c732b5-5278-40a1-99ef-2a17a563295c",
   "metadata": {},
   "outputs": [],
   "source": [
    "vocab_size = 10\n",
    "seq_len = 256\n",
    "alpha = 1\n",
    "batch_size = 64\n",
    "dag = [[], []] + [[(i - 1) // 2, i - 1] for i in range(2, seq_len + 1)]\n",
    "\n",
    "problem = InContextDAG(vocab_size=vocab_size, dag=dag, alpha=alpha)\n",
    "sample_fn = jit(lambda k: vmap(problem.sample)(jr.split(k, batch_size)))\n",
    "rng = RNG(0)\n",
    "batch, p = sample_fn(rng.next())"
   ]
  },
  {
   "cell_type": "code",
   "execution_count": 8,
   "id": "c7855083-dac9-43e1-9b42-75d9836b653c",
   "metadata": {},
   "outputs": [
    {
     "name": "stdout",
     "output_type": "stream",
     "text": [
      "25.3 ms ± 109 μs per loop (mean ± std. dev. of 7 runs, 100 loops each)\n"
     ]
    }
   ],
   "source": [
    "%timeit sample_fn(rng.next())"
   ]
  },
  {
   "cell_type": "code",
   "execution_count": 9,
   "id": "66f69b69-3b96-4062-b08b-7925d0893fc0",
   "metadata": {},
   "outputs": [],
   "source": [
    "problemTorch = InContextDAGTorch(vocab_size=vocab_size, dag=dag, alpha=alpha)"
   ]
  },
  {
   "cell_type": "markdown",
   "id": "0ba918c5-0e70-48e7-94e2-48fb78dc1624",
   "metadata": {},
   "source": [
    "For multiple parents, our implementation is much faster."
   ]
  },
  {
   "cell_type": "code",
   "execution_count": 10,
   "id": "dfccfe37-5aff-454e-baca-1b9a0af4cfda",
   "metadata": {},
   "outputs": [
    {
     "data": {
      "text/plain": [
       "(tensor([[5, 7, 2,  ..., 3, 6, 3],\n",
       "         [1, 7, 6,  ..., 0, 5, 7],\n",
       "         [5, 2, 0,  ..., 9, 5, 5],\n",
       "         ...,\n",
       "         [2, 5, 8,  ..., 9, 3, 0],\n",
       "         [0, 3, 5,  ..., 7, 9, 5],\n",
       "         [9, 8, 0,  ..., 9, 7, 3]]),\n",
       " tensor([[8.8681e-03, 8.8652e-04, 4.8301e-02, 5.6325e-01, 4.4977e-02, 2.1083e-02,\n",
       "          1.5304e-01, 2.5300e-02, 7.7953e-02, 5.6346e-02],\n",
       "         [2.8987e-01, 6.6930e-02, 1.1968e-01, 2.0472e-03, 3.8601e-02, 1.1659e-01,\n",
       "          5.4082e-02, 1.2452e-01, 1.0040e-01, 8.7283e-02],\n",
       "         [1.0781e-02, 1.3859e-01, 7.3921e-02, 7.5312e-02, 3.2596e-02, 5.0985e-01,\n",
       "          6.9395e-02, 8.0795e-02, 1.8550e-03, 6.9010e-03],\n",
       "         [1.7374e-01, 2.8890e-02, 5.5516e-02, 7.6241e-02, 6.0272e-02, 3.5744e-02,\n",
       "          1.2700e-01, 3.1984e-01, 9.8678e-02, 2.4072e-02],\n",
       "         [2.9147e-02, 9.2651e-02, 1.1206e-01, 1.0761e-01, 2.1377e-03, 3.5485e-02,\n",
       "          4.0701e-01, 1.0409e-01, 6.6355e-03, 1.0317e-01],\n",
       "         [5.3251e-03, 1.1272e-02, 9.1321e-02, 1.0048e-01, 1.4962e-01, 2.4352e-01,\n",
       "          1.5295e-01, 2.2373e-02, 2.1906e-03, 2.2095e-01],\n",
       "         [2.5857e-01, 2.3584e-02, 1.1953e-01, 1.8176e-01, 2.8609e-02, 8.6528e-02,\n",
       "          1.9607e-01, 4.6516e-02, 3.0457e-02, 2.8378e-02],\n",
       "         [1.2193e-01, 7.8812e-02, 3.3726e-03, 4.0192e-02, 4.8436e-01, 2.8141e-02,\n",
       "          6.8692e-03, 2.2136e-02, 2.0577e-02, 1.9361e-01],\n",
       "         [1.6451e-02, 1.7972e-02, 2.6720e-02, 5.0070e-02, 3.8770e-02, 2.0845e-01,\n",
       "          6.7309e-02, 1.5476e-01, 4.5798e-03, 4.1492e-01],\n",
       "         [4.9769e-02, 4.2095e-02, 9.7931e-02, 3.5420e-02, 2.9769e-02, 7.1626e-02,\n",
       "          1.2153e-01, 7.1268e-02, 2.0156e-01, 2.7903e-01],\n",
       "         [5.8270e-02, 2.2510e-01, 3.0230e-02, 3.2029e-01, 9.0941e-02, 3.1890e-02,\n",
       "          1.0026e-01, 1.1154e-02, 1.2682e-01, 5.0442e-03],\n",
       "         [8.9475e-02, 1.8825e-03, 4.7968e-02, 1.4878e-01, 1.6545e-01, 9.4558e-02,\n",
       "          2.2020e-01, 3.6079e-02, 3.3023e-03, 1.9231e-01],\n",
       "         [7.2826e-02, 2.2149e-01, 5.4284e-02, 4.5936e-02, 2.7710e-02, 2.5903e-01,\n",
       "          5.9120e-02, 4.6374e-02, 1.4130e-01, 7.1926e-02],\n",
       "         [8.5918e-02, 6.3960e-02, 5.8146e-03, 1.0630e-01, 2.3227e-01, 5.1670e-02,\n",
       "          1.1708e-01, 1.4839e-01, 1.1839e-02, 1.7676e-01],\n",
       "         [6.0846e-02, 1.9184e-03, 2.2654e-02, 4.9994e-01, 5.6041e-02, 7.7663e-02,\n",
       "          7.4901e-02, 2.5998e-02, 1.3311e-01, 4.6919e-02],\n",
       "         [5.8971e-02, 1.5726e-02, 1.4771e-01, 3.8612e-01, 7.7655e-02, 1.5552e-02,\n",
       "          1.0962e-02, 3.3169e-02, 1.4350e-01, 1.1064e-01],\n",
       "         [1.2124e-01, 1.0361e-01, 9.5891e-03, 5.6738e-02, 4.0786e-03, 4.0575e-01,\n",
       "          5.9159e-02, 1.9592e-01, 3.1543e-02, 1.2367e-02],\n",
       "         [8.4703e-02, 1.6982e-01, 7.2694e-03, 2.4596e-01, 5.5673e-02, 9.3888e-02,\n",
       "          7.1563e-02, 2.1402e-02, 8.8504e-03, 2.4087e-01],\n",
       "         [6.7169e-02, 1.1949e-01, 1.8472e-01, 1.0214e-01, 2.6007e-01, 1.4008e-01,\n",
       "          2.0803e-02, 6.1772e-02, 1.9745e-02, 2.4011e-02],\n",
       "         [5.1179e-02, 2.9272e-02, 3.3407e-01, 6.1884e-02, 8.5410e-04, 1.0061e-02,\n",
       "          2.9495e-02, 4.0433e-01, 1.8322e-02, 6.0530e-02],\n",
       "         [6.8750e-02, 1.3911e-01, 2.5278e-02, 2.1136e-01, 1.3509e-01, 4.4031e-02,\n",
       "          1.5236e-01, 8.0097e-03, 1.8751e-01, 2.8504e-02],\n",
       "         [6.1867e-02, 1.4936e-02, 3.9955e-01, 2.3776e-02, 6.3680e-02, 1.9661e-02,\n",
       "          1.7036e-01, 8.1690e-02, 1.3959e-01, 2.4895e-02],\n",
       "         [2.4655e-02, 1.6324e-02, 1.6370e-01, 2.2827e-01, 9.1185e-03, 1.4721e-02,\n",
       "          3.4785e-02, 6.9388e-03, 1.5706e-01, 3.4443e-01],\n",
       "         [3.9179e-02, 7.6556e-04, 2.8036e-01, 1.7508e-01, 1.6847e-01, 7.2399e-03,\n",
       "          1.9014e-02, 1.4074e-01, 7.9002e-03, 1.6125e-01],\n",
       "         [2.6030e-02, 1.0679e-03, 2.2840e-01, 9.0653e-02, 2.4733e-01, 6.2364e-02,\n",
       "          2.0001e-02, 8.5186e-02, 3.4978e-02, 2.0399e-01],\n",
       "         [1.2819e-02, 2.4415e-01, 6.6963e-03, 1.8520e-01, 2.5272e-01, 1.0450e-01,\n",
       "          4.1011e-02, 2.8329e-02, 1.5048e-02, 1.0953e-01],\n",
       "         [1.0417e-01, 1.6791e-02, 3.1382e-02, 7.2655e-03, 3.2951e-01, 7.7989e-02,\n",
       "          3.1231e-02, 7.6251e-02, 1.4444e-01, 1.8098e-01],\n",
       "         [6.5536e-02, 2.6573e-01, 3.0172e-02, 7.4103e-02, 7.5925e-02, 2.9290e-02,\n",
       "          1.4266e-01, 3.4810e-02, 1.5357e-01, 1.2821e-01],\n",
       "         [1.5753e-02, 4.1752e-02, 2.7433e-03, 9.2584e-02, 1.8784e-01, 1.8228e-01,\n",
       "          1.0722e-01, 6.2661e-02, 2.7328e-01, 3.3882e-02],\n",
       "         [3.2783e-02, 9.6812e-02, 8.5956e-02, 1.0528e-01, 6.1719e-02, 1.2121e-01,\n",
       "          2.1623e-02, 1.2755e-01, 1.4943e-01, 1.9763e-01],\n",
       "         [1.4621e-02, 1.4530e-01, 1.4482e-01, 2.3725e-01, 5.5816e-03, 1.3496e-02,\n",
       "          3.5165e-02, 2.1681e-01, 1.1476e-01, 7.2188e-02],\n",
       "         [5.4766e-02, 2.2800e-04, 1.2479e-01, 2.8861e-02, 1.6359e-01, 1.9392e-02,\n",
       "          1.3877e-01, 7.7520e-02, 1.8352e-01, 2.0856e-01],\n",
       "         [1.2592e-01, 2.5626e-01, 1.8848e-02, 4.5783e-02, 8.3591e-02, 2.1248e-02,\n",
       "          2.0170e-01, 7.8444e-03, 9.2395e-04, 2.3788e-01],\n",
       "         [1.7686e-01, 7.9434e-02, 1.2557e-01, 3.9877e-02, 3.2167e-02, 1.8192e-02,\n",
       "          3.1715e-01, 2.9524e-02, 1.5224e-01, 2.8979e-02],\n",
       "         [4.2835e-02, 1.0907e-01, 4.4248e-02, 1.2160e-01, 5.7491e-02, 2.9010e-02,\n",
       "          5.1505e-02, 1.2365e-01, 3.0758e-01, 1.1301e-01],\n",
       "         [1.5247e-01, 1.9036e-01, 9.7960e-02, 3.9402e-02, 2.6146e-01, 6.2266e-02,\n",
       "          2.2226e-02, 1.0739e-01, 5.7092e-02, 9.3823e-03],\n",
       "         [1.2225e-01, 2.1704e-01, 6.8966e-02, 3.0228e-02, 2.0745e-01, 9.3754e-02,\n",
       "          8.1123e-03, 5.8589e-02, 2.2535e-03, 1.9135e-01],\n",
       "         [2.6214e-02, 1.6364e-04, 5.2323e-02, 5.1556e-01, 1.0458e-02, 1.5511e-01,\n",
       "          5.5997e-03, 1.9774e-01, 1.4822e-02, 2.2003e-02],\n",
       "         [4.9190e-02, 1.7862e-01, 5.8075e-02, 3.8537e-02, 4.3923e-02, 1.3487e-01,\n",
       "          2.4099e-01, 1.3887e-01, 7.3900e-02, 4.3024e-02],\n",
       "         [1.6087e-01, 6.8829e-02, 2.9090e-01, 5.4844e-03, 7.2857e-02, 3.8635e-02,\n",
       "          2.2421e-01, 7.3641e-02, 4.5061e-02, 1.9516e-02],\n",
       "         [1.2661e-01, 4.4570e-02, 7.8215e-02, 1.3522e-01, 8.9543e-02, 7.6018e-02,\n",
       "          2.2366e-01, 1.0730e-02, 1.6267e-01, 5.2757e-02],\n",
       "         [8.7459e-03, 1.0790e-01, 2.3408e-01, 5.4877e-02, 5.5157e-02, 4.5216e-02,\n",
       "          3.8278e-02, 8.1722e-03, 2.7649e-01, 1.7109e-01],\n",
       "         [5.4227e-02, 2.6697e-01, 6.3154e-02, 9.7344e-02, 1.5244e-02, 1.0698e-01,\n",
       "          3.9588e-02, 3.9656e-02, 2.8584e-01, 3.1001e-02],\n",
       "         [4.0375e-03, 1.8402e-01, 2.0626e-01, 3.8466e-02, 3.0859e-01, 2.3905e-02,\n",
       "          5.0712e-02, 1.4686e-01, 2.2841e-02, 1.4311e-02],\n",
       "         [3.2045e-02, 4.1147e-04, 1.5947e-02, 2.5782e-03, 5.6157e-02, 5.7477e-03,\n",
       "          6.6055e-01, 4.1581e-02, 6.3532e-02, 1.2145e-01],\n",
       "         [8.3522e-03, 3.3530e-01, 1.8522e-02, 1.7745e-02, 7.3962e-02, 1.0781e-01,\n",
       "          5.1314e-02, 3.1612e-02, 1.8198e-01, 1.7339e-01],\n",
       "         [2.3791e-02, 6.1769e-02, 1.1177e-01, 1.6900e-01, 9.6493e-02, 1.0884e-01,\n",
       "          2.8517e-02, 1.3324e-01, 1.9988e-03, 2.6457e-01],\n",
       "         [1.2052e-01, 1.2276e-01, 1.7521e-02, 4.5264e-01, 3.0963e-03, 2.0421e-01,\n",
       "          6.2736e-03, 5.1984e-02, 1.0636e-02, 1.0357e-02],\n",
       "         [9.2635e-02, 2.3248e-01, 7.9486e-03, 1.7854e-01, 1.2002e-01, 6.2253e-02,\n",
       "          1.7651e-01, 4.0469e-02, 2.1752e-02, 6.7395e-02],\n",
       "         [9.8836e-03, 2.8272e-02, 1.0142e-01, 2.5712e-01, 3.4608e-01, 1.5656e-01,\n",
       "          3.3114e-02, 1.8059e-02, 7.1952e-03, 4.2297e-02],\n",
       "         [2.9992e-01, 2.9127e-02, 2.9566e-01, 3.5019e-02, 2.0024e-01, 2.5356e-02,\n",
       "          5.2770e-02, 1.1829e-02, 9.7025e-03, 4.0368e-02],\n",
       "         [4.5573e-02, 1.2240e-01, 1.2049e-01, 4.3591e-03, 1.6900e-01, 1.5376e-01,\n",
       "          1.5208e-01, 8.1499e-02, 1.0201e-02, 1.4063e-01],\n",
       "         [2.6837e-01, 7.5018e-02, 1.4602e-01, 5.6269e-02, 7.0209e-02, 8.5558e-02,\n",
       "          1.2188e-02, 3.1637e-03, 2.4306e-01, 4.0144e-02],\n",
       "         [1.3940e-02, 2.8024e-01, 3.4650e-03, 6.8252e-02, 1.0243e-01, 2.8685e-02,\n",
       "          5.6860e-02, 9.6468e-02, 8.2765e-02, 2.6689e-01],\n",
       "         [7.9716e-02, 3.9920e-02, 2.4231e-01, 6.9963e-02, 7.4643e-03, 2.2486e-01,\n",
       "          1.0209e-02, 2.2574e-01, 7.5628e-02, 2.4195e-02],\n",
       "         [3.6494e-02, 2.9177e-02, 1.8154e-01, 3.3399e-01, 3.8163e-02, 1.7956e-03,\n",
       "          1.1925e-01, 5.9631e-03, 1.2168e-01, 1.3195e-01],\n",
       "         [7.9328e-02, 2.8414e-02, 2.9211e-01, 1.8396e-01, 2.6867e-02, 6.3607e-02,\n",
       "          4.7731e-02, 1.3933e-02, 1.9828e-01, 6.5767e-02],\n",
       "         [1.4164e-01, 1.2588e-01, 1.0148e-01, 1.5259e-01, 6.5010e-02, 9.3307e-03,\n",
       "          2.0043e-02, 1.5687e-01, 1.6323e-01, 6.3913e-02],\n",
       "         [1.1399e-01, 9.3711e-02, 1.4131e-01, 2.2367e-01, 9.2054e-04, 1.1452e-01,\n",
       "          3.7650e-02, 1.1034e-01, 4.0236e-02, 1.2364e-01],\n",
       "         [5.7833e-02, 1.0776e-01, 8.7063e-02, 8.9301e-02, 4.7270e-02, 1.1036e-01,\n",
       "          6.4840e-02, 1.3972e-01, 1.6081e-01, 1.3505e-01],\n",
       "         [2.2109e-02, 2.2741e-01, 5.0367e-03, 1.9395e-01, 3.4081e-01, 1.7435e-02,\n",
       "          6.4861e-03, 5.9501e-02, 6.8940e-02, 5.8321e-02],\n",
       "         [4.4203e-03, 1.8485e-02, 1.1659e-01, 1.4756e-02, 1.1663e-01, 3.9340e-02,\n",
       "          1.3672e-02, 4.7092e-02, 5.7330e-02, 5.7168e-01],\n",
       "         [1.9699e-02, 5.1713e-03, 2.0284e-01, 1.4170e-01, 2.9095e-01, 1.6056e-03,\n",
       "          4.2490e-02, 5.4840e-02, 2.3744e-01, 3.2679e-03],\n",
       "         [8.4115e-02, 1.3446e-01, 7.7659e-02, 6.8797e-02, 1.1029e-01, 7.1820e-02,\n",
       "          6.3237e-02, 1.9248e-01, 2.0459e-02, 1.7669e-01]]))"
      ]
     },
     "execution_count": 10,
     "metadata": {},
     "output_type": "execute_result"
    }
   ],
   "source": [
    "problemTorch.sample_batch(batch_size)"
   ]
  },
  {
   "cell_type": "code",
   "execution_count": null,
   "id": "dc8ff0ae-2d33-4458-91ca-cb12fb1ab983",
   "metadata": {},
   "outputs": [],
   "source": []
  }
 ],
 "metadata": {
  "kernelspec": {
   "display_name": "Python 3 (ipykernel)",
   "language": "python",
   "name": "python3"
  },
  "language_info": {
   "codemirror_mode": {
    "name": "ipython",
    "version": 3
   },
   "file_extension": ".py",
   "mimetype": "text/x-python",
   "name": "python",
   "nbconvert_exporter": "python",
   "pygments_lexer": "ipython3",
   "version": "3.11.11"
  }
 },
 "nbformat": 4,
 "nbformat_minor": 5
}
