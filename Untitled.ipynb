{
 "cells": [
  {
   "cell_type": "code",
   "execution_count": null,
   "id": "7f0bd343-8cff-4a94-a7bf-450c1697be74",
   "metadata": {},
   "outputs": [],
   "source": [
    "import torch\n",
    "import torch.nn as nn\n",
    "import torch.nn.functional as F\n",
    "from torch.optim.lr_scheduler import CosineAnnealingLR\n",
    "import numpy as np\n",
    "import matplotlib.pyplot as plt\n",
    "from PIL import Image\n",
    "from itertools import product\n",
    "from dataclasses import dataclass\n",
    "from collections import namedtuple, defaultdict\n",
    "from tasks.markov import *\n",
    "from base_models import *\n",
    "from pos_encoder import *\n",
    "from tasks.causal_graph import *\n",
    "from config import *\n",
    "from train import *\n",
    "import plot\n",
    "from util import memory_recall_probe, feedforward_probe\n",
    "import seaborn as sns\n",
    "import torch.utils.benchmark as benchmark\n",
    "from tqdm.notebook import tqdm, trange\n",
    "\n",
    "from head_view import *\n",
    "\n",
    "torch.set_printoptions(precision=2, sci_mode=False)\n",
    "\n",
    "%load_ext autoreload\n",
    "%autoreload 2"
   ]
  },
  {
   "cell_type": "code",
   "execution_count": 4,
   "id": "7590f066-6cfa-4760-9691-22cd3a505760",
   "metadata": {},
   "outputs": [],
   "source": [
    "SEQ_LEN = 100\n",
    "VOC_SIZE = 64\n",
    "BATCH_SIZE = 4096\n",
    "\n",
    "sampler_config = MarkovSamplerConfig(seq_len=SEQ_LEN, vocab_size=VOC_SIZE, batch_size=BATCH_SIZE, rho=0.6, order=1, alpha=0.1,\n",
    "                                     task_name=\"icl-frm\", fixed=False)\n",
    "\n",
    "sampler = FRMarkovSampler(sampler_config)\n",
    "batch, mask = sampler.generate(epochs=1)"
   ]
  },
  {
   "cell_type": "code",
   "execution_count": 5,
   "id": "c7b47075-624c-4c4c-a50c-72d8e8167793",
   "metadata": {},
   "outputs": [],
   "source": [
    "mix_learner = mixed_ngramLearner(sampler_config, order=1)\n",
    "mix_learner.update(batch[0], mask[0])"
   ]
  },
  {
   "cell_type": "code",
   "execution_count": 6,
   "id": "49a1fc15-0c1b-4144-a5e2-6d1256a2b56b",
   "metadata": {},
   "outputs": [
    {
     "data": {
      "text/plain": [
       "tensor(2.16, device='cuda:0')"
      ]
     },
     "execution_count": 6,
     "metadata": {},
     "output_type": "execute_result"
    }
   ],
   "source": [
    "mix_learner.loss(batch[0], mask[0])"
   ]
  },
  {
   "cell_type": "code",
   "execution_count": 94,
   "id": "6f5bb0f6-8ea1-4bf1-82dd-636c7acc1570",
   "metadata": {},
   "outputs": [
    {
     "data": {
      "text/plain": [
       "tensor([[[0, 1, 1, 1, 0, 1, 1, 0, 1, 1]]], device='cuda:0')"
      ]
     },
     "execution_count": 94,
     "metadata": {},
     "output_type": "execute_result"
    }
   ],
   "source": [
    "batch"
   ]
  },
  {
   "cell_type": "code",
   "execution_count": 95,
   "id": "db0e8e77-1b16-491b-a3fe-fa6d20740380",
   "metadata": {},
   "outputs": [
    {
     "data": {
      "text/plain": [
       "tensor([[[0, 0, 0, 0, 0, 0, 0, 0, 0, 0]]], device='cuda:0')"
      ]
     },
     "execution_count": 95,
     "metadata": {},
     "output_type": "execute_result"
    }
   ],
   "source": [
    "mask"
   ]
  },
  {
   "cell_type": "code",
   "execution_count": null,
   "id": "d0ace00f-acdd-442e-8807-23a59b92df1f",
   "metadata": {},
   "outputs": [],
   "source": []
  }
 ],
 "metadata": {
  "kernelspec": {
   "display_name": "Python 3 (ipykernel)",
   "language": "python",
   "name": "python3"
  },
  "language_info": {
   "codemirror_mode": {
    "name": "ipython",
    "version": 3
   },
   "file_extension": ".py",
   "mimetype": "text/x-python",
   "name": "python",
   "nbconvert_exporter": "python",
   "pygments_lexer": "ipython3",
   "version": "3.12.3"
  }
 },
 "nbformat": 4,
 "nbformat_minor": 5
}
