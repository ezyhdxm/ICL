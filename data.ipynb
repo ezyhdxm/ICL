{
 "cells": [
  {
   "cell_type": "code",
   "execution_count": 4,
   "id": "8da27af1-94b8-4479-9f98-dc816c00794f",
   "metadata": {},
   "outputs": [
    {
     "name": "stdout",
     "output_type": "stream",
     "text": [
      "length of dataset in characters: 1,115,394\n"
     ]
    }
   ],
   "source": [
    "import os \n",
    "import pickle\n",
    "import requests\n",
    "import numpy as np\n",
    "\n",
    "__file__ = \"\"\n",
    "input_file_path = os.path.join(os.path.dirname(__file__), 'input.txt')\n",
    "if not os.path.exists(input_file_path):\n",
    "    data_url = 'https://raw.githubusercontent.com/karpathy/char-rnn/master/data/tinyshakespeare/input.txt'\n",
    "    with open(input_file_path, 'w') as f:\n",
    "        f.write(requests.get(data_url).text)\n",
    "with open(input_file_path, 'r') as f:\n",
    "    data = f.read()\n",
    "print(f\"length of dataset in characters: {len(data):,}\")"
   ]
  },
  {
   "cell_type": "code",
   "execution_count": 6,
   "id": "961abb22-d62d-4a70-9ee5-d9886b4b406e",
   "metadata": {},
   "outputs": [
    {
     "name": "stdout",
     "output_type": "stream",
     "text": [
      "all the unique characters: \n",
      " !$&',-.3:;?ABCDEFGHIJKLMNOPQRSTUVWXYZabcdefghijklmnopqrstuvwxyz\n",
      "vocab size: 65\n"
     ]
    }
   ],
   "source": [
    "chars = sorted(list(set(data)))\n",
    "vocab_size = len(chars)\n",
    "print(\"all the unique characters:\", ''.join(chars))\n",
    "print(f\"vocab size: {vocab_size:,}\")"
   ]
  },
  {
   "cell_type": "code",
   "execution_count": 8,
   "id": "dbed4b9c-0ed3-4b12-868c-4cabcb5ffe39",
   "metadata": {},
   "outputs": [],
   "source": [
    "stoi = {ch:i for i,ch in enumerate(chars)}\n",
    "itos = {i:ch for i,ch in enumerate(chars)}"
   ]
  },
  {
   "cell_type": "code",
   "execution_count": 14,
   "id": "e6012333-9ec6-47d4-b7e6-b1fb7359dd7d",
   "metadata": {},
   "outputs": [],
   "source": [
    "from collections import Counter, defaultdict\n",
    "from itertools import chain"
   ]
  },
  {
   "cell_type": "code",
   "execution_count": 32,
   "id": "7d96995d-8a00-4869-951f-5a6241dd0080",
   "metadata": {},
   "outputs": [],
   "source": [
    "unigrams = dict(Counter(data))\n",
    "bigrams = dict(Counter(chain(zip(data[::2], data[1::2]), zip(data[1::2], data[2::2]))))\n",
    "bigrams_cond = defaultdict(dict)\n",
    "for (w1, w2), cnt in bigrams.items():\n",
    "    bigrams_cond[w1][w2] = cnt"
   ]
  },
  {
   "cell_type": "code",
   "execution_count": 48,
   "id": "3e2ce77e-59f5-4302-9710-6deee27fef84",
   "metadata": {},
   "outputs": [],
   "source": [
    "from dataclasses import dataclass\n",
    "import itertools \n",
    "import logging\n",
    "import random \n",
    "import math\n",
    "import numpy as np\n",
    "import pickle\n",
    "import time\n",
    "import sys\n",
    "from typing import List, Optional, Tuple"
   ]
  },
  {
   "cell_type": "code",
   "execution_count": 50,
   "id": "edf04e5e-0957-4a54-91c6-13ed51056a10",
   "metadata": {},
   "outputs": [],
   "source": [
    "logging.getLogger().setLevel(logging.INFO)"
   ]
  },
  {
   "cell_type": "code",
   "execution_count": 52,
   "id": "bdbbcb29-a51e-4086-91a5-ace98206597b",
   "metadata": {},
   "outputs": [],
   "source": [
    "@dataclass\n",
    "class DataArgs:\n",
    "    k: int = 0\n",
    "    seq_length: int = 256\n",
    "    show_latents: bool = False\n",
    "    fixed_special_toks: bool = False\n",
    "    special_toks_offset: int = 0\n",
    "    output_counter: bool = True\n",
    "    no_repeat: bool = False"
   ]
  },
  {
   "cell_type": "code",
   "execution_count": 54,
   "id": "f13f6e3a-64ae-48a4-8c3d-d0b1f284a933",
   "metadata": {},
   "outputs": [],
   "source": [
    "class Dataset:\n",
    "    def __init__(self, args: DataArgs,\n",
    "                 train_test: Optional[str] = None,\n",
    "                 bigram_outs: Optional[bool] = False):\n",
    "        self.k = args.k\n",
    "        self.seq_length = args.seq_length\n",
    "        self.show_latents = args.show_latents\n",
    "        self.train_test = train_test\n",
    "        self.output_counter = args.output_counter\n",
    "        self.no_repeat = args.no_repeat\n",
    "        self.bigram_outs = bigram_outs\n",
    "\n",
    "        # init distributions\n",
    "        self.meta = pickle.load(open('data/meta.pkl', 'rb'))\n",
    "        self.itos = self.meta['itos']\n",
    "        self.stoi = self.meta['stoi']\n",
    "        self.num_tokens = self.meta['vocab_size']\n",
    "        self.tok_range = list(np.arange(self.num_tokens))\n",
    "        self.n_train_toks = self.num_tokens\n",
    "\n",
    "        self.marginal = np.zeros(self.num_tokens)\n",
    "        for k, cnt in self.meta['unigrams'].items():\n",
    "            self.marginal[self.stoi[k]] = cnt\n",
    "        self.marginal /= self.marginal.sum()\n",
    "\n",
    "         # conditionals\n",
    "        self.cond = [np.zeros(self.num_tokens) for _ in range(self.num_tokens)]\n",
    "        for (w1, w2), cnt in self.meta['bigrams'].items():\n",
    "            self.cond[self.stoi[w1]][self.stoi[w2]] += cnt\n",
    "        for i in range(self.num_tokens):\n",
    "            self.cond[i] /= self.cond[i].sum()\n",
    "\n",
    "        # special tokens\n",
    "        self.idxs = None\n",
    "        if args.fixed_special_toks:\n",
    "            # use unigram marginals\n",
    "            self.idxs = list(self.marginal.argsort()[\n",
    "                             self.num_tokens-self.k-args.special_toks_offset:self.num_tokens-args.special_toks_offset])\n",
    "            "
   ]
  }
 ],
 "metadata": {
  "kernelspec": {
   "display_name": "Python [conda env:LLM]",
   "language": "python",
   "name": "conda-env-LLM-py"
  },
  "language_info": {
   "codemirror_mode": {
    "name": "ipython",
    "version": 3
   },
   "file_extension": ".py",
   "mimetype": "text/x-python",
   "name": "python",
   "nbconvert_exporter": "python",
   "pygments_lexer": "ipython3",
   "version": "3.12.3"
  }
 },
 "nbformat": 4,
 "nbformat_minor": 5
}
